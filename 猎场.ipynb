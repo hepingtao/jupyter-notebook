{
 "cells": [
  {
   "cell_type": "code",
   "execution_count": 2,
   "metadata": {
    "collapsed": true
   },
   "outputs": [],
   "source": [
    "import re\n",
    "import requests\n",
    "import codecs\n",
    "import time\n",
    "import random\n",
    "\n",
    "from bs4 import BeautifulSoup"
   ]
  },
  {
   "cell_type": "code",
   "execution_count": 3,
   "metadata": {
    "collapsed": true
   },
   "outputs": [
    {
     "ename": "FileNotFoundError",
     "evalue": "[Errno 2] No such file or directory: 'cookie.txt'",
     "traceback": [
      "\u001b[1;31m---------------------------------------------------------------------------\u001b[0m",
      "\u001b[1;31mFileNotFoundError\u001b[0m                         Traceback (most recent call last)",
      "\u001b[1;32m<ipython-input-3-a26dbe1eb50c>\u001b[0m in \u001b[0;36m<module>\u001b[1;34m()\u001b[0m\n\u001b[0;32m     10\u001b[0m     \u001b[1;32mreturn\u001b[0m \u001b[0mcomment_list\u001b[0m\u001b[1;33m,\u001b[0m\u001b[0mnext_page\u001b[0m\u001b[1;33m,\u001b[0m\u001b[0mdate_nodes\u001b[0m\u001b[1;33m\u001b[0m\u001b[0m\n\u001b[0;32m     11\u001b[0m \u001b[1;32mif\u001b[0m \u001b[0m__name__\u001b[0m \u001b[1;33m==\u001b[0m \u001b[1;34m'__main__'\u001b[0m\u001b[1;33m:\u001b[0m\u001b[1;33m\u001b[0m\u001b[0m\n\u001b[1;32m---> 12\u001b[1;33m     \u001b[0mf_cookies\u001b[0m \u001b[1;33m=\u001b[0m \u001b[0mopen\u001b[0m\u001b[1;33m(\u001b[0m\u001b[1;34m'cookie.txt'\u001b[0m\u001b[1;33m,\u001b[0m \u001b[1;34m'r'\u001b[0m\u001b[1;33m)\u001b[0m\u001b[1;33m\u001b[0m\u001b[0m\n\u001b[0m\u001b[0;32m     13\u001b[0m     \u001b[0mcookies\u001b[0m \u001b[1;33m=\u001b[0m \u001b[1;33m{\u001b[0m\u001b[1;33m}\u001b[0m\u001b[1;33m\u001b[0m\u001b[0m\n\u001b[0;32m     14\u001b[0m     \u001b[1;32mfor\u001b[0m \u001b[0mline\u001b[0m \u001b[1;32min\u001b[0m \u001b[0mf_cookies\u001b[0m\u001b[1;33m.\u001b[0m\u001b[0mread\u001b[0m\u001b[1;33m(\u001b[0m\u001b[1;33m)\u001b[0m\u001b[1;33m.\u001b[0m\u001b[0msplit\u001b[0m\u001b[1;33m(\u001b[0m\u001b[1;34m';'\u001b[0m\u001b[1;33m)\u001b[0m\u001b[1;33m:\u001b[0m\u001b[1;33m\u001b[0m\u001b[0m\n",
      "\u001b[1;31mFileNotFoundError\u001b[0m: [Errno 2] No such file or directory: 'cookie.txt'"
     ],
     "output_type": "error"
    }
   ],
   "source": [
    "absolute = 'https://movie.douban.com/subject/26322642/comments'\n",
    "absolute_url = 'https://movie.douban.com/subject/26322642/comments?start=23&limit=20&sort=new_score&status=P&percent_type='\n",
    "url = 'https://movie.douban.com/subject/26322642/comments?start={}&limit=20&sort=new_score&status=P'\n",
    "header={'User-Agent':'Mozilla/5.0 (Windows NT 10.0; Win64; x64; rv:54.0) Gecko/20100101 Firefox/54.0','Connection':'keep-alive'}\n",
    "def get_data(html):\n",
    "    soup=BeautifulSoup(html,'lxml')\n",
    "    comment_list = soup.select('.comment > p')\n",
    "    next_page= soup.select('#paginator > a')[2].get('href')\n",
    "    date_nodes = soup.select('..comment-time')\n",
    "    return comment_list,next_page,date_nodes\n",
    "\n",
    "if __name__ == '__main__':\n",
    "    f_cookies = open('cookie.txt', 'r')\n",
    "    cookies = {}\n",
    "    for line in f_cookies.read().split(';'):\n",
    "        name, value = line.strip().split('=', 1)\n",
    "        cookies[name] = value\n",
    "    html = requests.get(absolute_url, cookies=cookies, headers=header).content\n",
    "    comment_list = []\n",
    "    # 获取评论\n",
    "    comment_list, next_page,date_nodes= get_data(html,)\n",
    "    soup = BeautifulSoup(html, 'lxml')\n",
    "    comment_list = []\n",
    "    while (next_page != []):  #查看“下一页”的A标签链接\n",
    "        print(absolute + next_page)\n",
    "        html = requests.get(absolute + next_page, cookies=cookies, headers=header).content\n",
    "        soup = BeautifulSoup(html, 'lxml')\n",
    "        comment_list, next_page,date_nodes = get_data(html)\n",
    "        with open(\"comments.txt\", 'a', encoding='utf-8')as f:\n",
    "            for node in comment_list:\n",
    "                comment = node.get_text().strip().replace(\"\\n\", \"\")\n",
    "                for date in date_nodes:\n",
    "                    date= node.get_text().strip()\n",
    "                    f.writelines((comment,date) + u'\\n')\n",
    "        time.sleep(1 + float(random.randint(1, 100)) / 20)\n"
   ]
  },
  {
   "cell_type": "code",
   "execution_count": null,
   "metadata": {},
   "outputs": [],
   "source": []
  }
 ],
 "metadata": {
  "kernelspec": {
   "display_name": "Python 2",
   "language": "python",
   "name": "python2"
  },
  "language_info": {
   "codemirror_mode": {
    "name": "ipython",
    "version": 2
   },
   "file_extension": ".py",
   "mimetype": "text/x-python",
   "name": "python",
   "nbconvert_exporter": "python",
   "pygments_lexer": "ipython2",
   "version": "2.7.6"
  }
 },
 "nbformat": 4,
 "nbformat_minor": 0
}
